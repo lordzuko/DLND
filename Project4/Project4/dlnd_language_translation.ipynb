{
 "cells": [
  {
   "cell_type": "markdown",
   "metadata": {
    "collapsed": true
   },
   "source": [
    "# Language Translation\n",
    "In this project, you’re going to take a peek into the realm of neural network machine translation.  You’ll be training a sequence to sequence model on a dataset of English and French sentences that can translate new sentences from English to French.\n",
    "## Get the Data\n",
    "Since translating the whole language of English to French will take lots of time to train, we have provided you with a small portion of the English corpus."
   ]
  },
  {
   "cell_type": "code",
   "execution_count": 1,
   "metadata": {
    "collapsed": true
   },
   "outputs": [],
   "source": [
    "\"\"\"\n",
    "DON'T MODIFY ANYTHING IN THIS CELL\n",
    "\"\"\"\n",
    "import helper\n",
    "import problem_unittests as tests\n",
    "\n",
    "source_path = 'data/small_vocab_en'\n",
    "target_path = 'data/small_vocab_fr'\n",
    "source_text = helper.load_data(source_path)\n",
    "target_text = helper.load_data(target_path)"
   ]
  },
  {
   "cell_type": "markdown",
   "metadata": {},
   "source": [
    "## Explore the Data\n",
    "Play around with view_sentence_range to view different parts of the data."
   ]
  },
  {
   "cell_type": "code",
   "execution_count": 2,
   "metadata": {},
   "outputs": [
    {
     "name": "stdout",
     "output_type": "stream",
     "text": [
      "Dataset Stats\n",
      "Roughly the number of unique words: 227\n",
      "Number of sentences: 137861\n",
      "Average number of words in a sentence: 13.225277634719028\n",
      "\n",
      "English sentences 0 to 10:\n",
      "new jersey is sometimes quiet during autumn , and it is snowy in april .\n",
      "the united states is usually chilly during july , and it is usually freezing in november .\n",
      "california is usually quiet during march , and it is usually hot in june .\n",
      "the united states is sometimes mild during june , and it is cold in september .\n",
      "your least liked fruit is the grape , but my least liked is the apple .\n",
      "his favorite fruit is the orange , but my favorite is the grape .\n",
      "paris is relaxing during december , but it is usually chilly in july .\n",
      "new jersey is busy during spring , and it is never hot in march .\n",
      "our least liked fruit is the lemon , but my least liked is the grape .\n",
      "the united states is sometimes busy during january , and it is sometimes warm in november .\n",
      "\n",
      "French sentences 0 to 10:\n",
      "new jersey est parfois calme pendant l' automne , et il est neigeux en avril .\n",
      "les états-unis est généralement froid en juillet , et il gèle habituellement en novembre .\n",
      "california est généralement calme en mars , et il est généralement chaud en juin .\n",
      "les états-unis est parfois légère en juin , et il fait froid en septembre .\n",
      "votre moins aimé fruit est le raisin , mais mon moins aimé est la pomme .\n",
      "son fruit préféré est l'orange , mais mon préféré est le raisin .\n",
      "paris est relaxant en décembre , mais il est généralement froid en juillet .\n",
      "new jersey est occupé au printemps , et il est jamais chaude en mars .\n",
      "notre fruit est moins aimé le citron , mais mon moins aimé est le raisin .\n",
      "les états-unis est parfois occupé en janvier , et il est parfois chaud en novembre .\n"
     ]
    }
   ],
   "source": [
    "view_sentence_range = (0, 10)\n",
    "\n",
    "\"\"\"\n",
    "DON'T MODIFY ANYTHING IN THIS CELL\n",
    "\"\"\"\n",
    "import numpy as np\n",
    "\n",
    "print('Dataset Stats')\n",
    "print('Roughly the number of unique words: {}'.format(len({word: None for word in source_text.split()})))\n",
    "\n",
    "sentences = source_text.split('\\n')\n",
    "word_counts = [len(sentence.split()) for sentence in sentences]\n",
    "print('Number of sentences: {}'.format(len(sentences)))\n",
    "print('Average number of words in a sentence: {}'.format(np.average(word_counts)))\n",
    "\n",
    "print()\n",
    "print('English sentences {} to {}:'.format(*view_sentence_range))\n",
    "print('\\n'.join(source_text.split('\\n')[view_sentence_range[0]:view_sentence_range[1]]))\n",
    "print()\n",
    "print('French sentences {} to {}:'.format(*view_sentence_range))\n",
    "print('\\n'.join(target_text.split('\\n')[view_sentence_range[0]:view_sentence_range[1]]))"
   ]
  },
  {
   "cell_type": "markdown",
   "metadata": {},
   "source": [
    "## Implement Preprocessing Function\n",
    "### Text to Word Ids\n",
    "As you did with other RNNs, you must turn the text into a number so the computer can understand it. In the function `text_to_ids()`, you'll turn `source_text` and `target_text` from words to ids.  However, you need to add the `<EOS>` word id at the end of `target_text`.  This will help the neural network predict when the sentence should end.\n",
    "\n",
    "You can get the `<EOS>` word id by doing:\n",
    "```python\n",
    "target_vocab_to_int['<EOS>']\n",
    "```\n",
    "You can get other word ids using `source_vocab_to_int` and `target_vocab_to_int`."
   ]
  },
  {
   "cell_type": "code",
   "execution_count": 3,
   "metadata": {},
   "outputs": [
    {
     "name": "stdout",
     "output_type": "stream",
     "text": [
      "Tests Passed\n"
     ]
    }
   ],
   "source": [
    "def text_to_ids(source_text, target_text, source_vocab_to_int, target_vocab_to_int):\n",
    "    \"\"\"\n",
    "    Convert source and target text to proper word ids\n",
    "    :param source_text: String that contains all the source text.\n",
    "    :param target_text: String that contains all the target text.\n",
    "    :param source_vocab_to_int: Dictionary to go from the source words to an id\n",
    "    :param target_vocab_to_int: Dictionary to go from the target words to an id\n",
    "    :return: A tuple of lists (source_id_text, target_id_text)\n",
    "    \"\"\"\n",
    "    # TODO: Implement Function\n",
    "    source_sentences = [sentence for sentence in source_text.split('\\n')]\n",
    "    target_sentences = [sentence + ' <EOS>' for sentence in target_text.split('\\n')]\n",
    "    source_id_text = [[source_vocab_to_int[word] for word in sentence.split()] for sentence \n",
    "                                      in source_sentences]\n",
    "    target_id_text = [[target_vocab_to_int[word] for word in sentence.split()] for sentence\n",
    "                                      in target_sentences]\n",
    "    return source_id_text, target_id_text\n",
    "\n",
    "\"\"\"\n",
    "DON'T MODIFY ANYTHING IN THIS CELL THAT IS BELOW THIS LINE\n",
    "\"\"\"\n",
    "tests.test_text_to_ids(text_to_ids)"
   ]
  },
  {
   "cell_type": "markdown",
   "metadata": {},
   "source": [
    "### Preprocess all the data and save it\n",
    "Running the code cell below will preprocess all the data and save it to file."
   ]
  },
  {
   "cell_type": "code",
   "execution_count": 4,
   "metadata": {
    "collapsed": true
   },
   "outputs": [],
   "source": [
    "\"\"\"\n",
    "DON'T MODIFY ANYTHING IN THIS CELL\n",
    "\"\"\"\n",
    "helper.preprocess_and_save_data(source_path, target_path, text_to_ids)"
   ]
  },
  {
   "cell_type": "markdown",
   "metadata": {},
   "source": [
    "# Check Point\n",
    "This is your first checkpoint. If you ever decide to come back to this notebook or have to restart the notebook, you can start from here. The preprocessed data has been saved to disk."
   ]
  },
  {
   "cell_type": "code",
   "execution_count": 5,
   "metadata": {
    "collapsed": true
   },
   "outputs": [],
   "source": [
    "\"\"\"\n",
    "DON'T MODIFY ANYTHING IN THIS CELL\n",
    "\"\"\"\n",
    "import tensorflow as tf\n",
    "import problem_unittests as tests\n",
    "import numpy as np\n",
    "import helper\n",
    "\n",
    "(source_int_text, target_int_text), (source_vocab_to_int, target_vocab_to_int), _ = helper.load_preprocess()"
   ]
  },
  {
   "cell_type": "markdown",
   "metadata": {},
   "source": [
    "### Check the Version of TensorFlow and Access to GPU\n",
    "This will check to make sure you have the correct version of TensorFlow and access to a GPU"
   ]
  },
  {
   "cell_type": "code",
   "execution_count": 6,
   "metadata": {},
   "outputs": [
    {
     "name": "stdout",
     "output_type": "stream",
     "text": [
      "TensorFlow Version: 1.1.0\n",
      "Default GPU Device: /gpu:0\n"
     ]
    }
   ],
   "source": [
    "\"\"\"\n",
    "DON'T MODIFY ANYTHING IN THIS CELL\n",
    "\"\"\"\n",
    "from distutils.version import LooseVersion\n",
    "import warnings\n",
    "import tensorflow as tf\n",
    "from tensorflow.python.layers.core import Dense\n",
    "\n",
    "# Check TensorFlow Version\n",
    "assert LooseVersion(tf.__version__) >= LooseVersion('1.1'), 'Please use TensorFlow version 1.1 or newer'\n",
    "print('TensorFlow Version: {}'.format(tf.__version__))\n",
    "\n",
    "# Check for a GPU\n",
    "if not tf.test.gpu_device_name():\n",
    "    warnings.warn('No GPU found. Please use a GPU to train your neural network.')\n",
    "else:\n",
    "    print('Default GPU Device: {}'.format(tf.test.gpu_device_name()))"
   ]
  },
  {
   "cell_type": "markdown",
   "metadata": {},
   "source": [
    "## Build the Neural Network\n",
    "You'll build the components necessary to build a Sequence-to-Sequence model by implementing the following functions below:\n",
    "- `model_inputs`\n",
    "- `process_decoder_input`\n",
    "- `encoding_layer`\n",
    "- `decoding_layer_train`\n",
    "- `decoding_layer_infer`\n",
    "- `decoding_layer`\n",
    "- `seq2seq_model`\n",
    "\n",
    "### Input\n",
    "Implement the `model_inputs()` function to create TF Placeholders for the Neural Network. It should create the following placeholders:\n",
    "\n",
    "- Input text placeholder named \"input\" using the TF Placeholder name parameter with rank 2.\n",
    "- Targets placeholder with rank 2.\n",
    "- Learning rate placeholder with rank 0.\n",
    "- Keep probability placeholder named \"keep_prob\" using the TF Placeholder name parameter with rank 0.\n",
    "- Target sequence length placeholder named \"target_sequence_length\" with rank 1\n",
    "- Max target sequence length tensor named \"max_target_len\" getting its value from applying tf.reduce_max on the target_sequence_length placeholder. Rank 0.\n",
    "- Source sequence length placeholder named \"source_sequence_length\" with rank 1\n",
    "\n",
    "Return the placeholders in the following the tuple (input, targets, learning rate, keep probability, target sequence length, max target sequence length, source sequence length)"
   ]
  },
  {
   "cell_type": "code",
   "execution_count": 7,
   "metadata": {},
   "outputs": [
    {
     "name": "stdout",
     "output_type": "stream",
     "text": [
      "Tests Passed\n"
     ]
    }
   ],
   "source": [
    "def model_inputs():\n",
    "    \"\"\"\n",
    "    Create TF Placeholders for input, targets, learning rate, and lengths of source and target sequences.\n",
    "    :return: Tuple (input, targets, learning rate, keep probability, target sequence length,\n",
    "    max target sequence length, source sequence length)\n",
    "    \"\"\"\n",
    "    # TODO: Implement Function\n",
    "    input_ = tf.placeholder(tf.int32, [None, None], 'input')\n",
    "    target_ = tf.placeholder(tf.int32, [None, None], 'target')\n",
    "    lr_ = tf.placeholder(tf.float32, None, 'lr') \n",
    "    keep_prob_ = tf.placeholder(tf.float32, None, 'keep_prob')\n",
    "    target_sequence_length_ = tf.placeholder(tf.int32, [None], 'target_sequence_length')\n",
    "    max_target_sequence_length_ = tf.reduce_max(target_sequence_length_, name='max_target_len')\n",
    "    source_sequence_length_ = tf.placeholder(tf.int32, [None], 'source_sequence_length')\n",
    "    return input_, target_, lr_, keep_prob_, target_sequence_length_, max_target_sequence_length_, source_sequence_length_\n",
    "\n",
    "\n",
    "\"\"\"\n",
    "DON'T MODIFY ANYTHING IN THIS CELL THAT IS BELOW THIS LINE\n",
    "\"\"\"\n",
    "tests.test_model_inputs(model_inputs)"
   ]
  },
  {
   "cell_type": "markdown",
   "metadata": {},
   "source": [
    "### Process Decoder Input\n",
    "Implement `process_decoder_input` by removing the last word id from each batch in `target_data` and concat the GO ID to the begining of each batch."
   ]
  },
  {
   "cell_type": "code",
   "execution_count": 8,
   "metadata": {},
   "outputs": [
    {
     "name": "stdout",
     "output_type": "stream",
     "text": [
      "Tests Passed\n"
     ]
    }
   ],
   "source": [
    "def process_decoder_input(target_data, target_vocab_to_int, batch_size):\n",
    "    \"\"\"\n",
    "    Preprocess target data for encoding\n",
    "    :param target_data: Target Placehoder\n",
    "    :param target_vocab_to_int: Dictionary to go from the target words to an id\n",
    "    :param batch_size: Batch Size\n",
    "    :return: Preprocessed target data\n",
    "    \"\"\"\n",
    "    # TODO: Implement Function\n",
    "    x = tf.strided_slice(target_data,[0,0], [batch_size, -1], [1,1])\n",
    "    y = tf.fill([batch_size, 1], target_vocab_to_int['<GO>'])\n",
    "    \n",
    "    return tf.concat([y,x], 1)\n",
    "\n",
    "\"\"\"\n",
    "DON'T MODIFY ANYTHING IN THIS CELL THAT IS BELOW THIS LINE\n",
    "\"\"\"\n",
    "tests.test_process_encoding_input(process_decoder_input)"
   ]
  },
  {
   "cell_type": "markdown",
   "metadata": {},
   "source": [
    "### Encoding\n",
    "Implement `encoding_layer()` to create a Encoder RNN layer:\n",
    " * Embed the encoder input using [`tf.contrib.layers.embed_sequence`](https://www.tensorflow.org/api_docs/python/tf/contrib/layers/embed_sequence)\n",
    " * Construct a [stacked](https://github.com/tensorflow/tensorflow/blob/6947f65a374ebf29e74bb71e36fd82760056d82c/tensorflow/docs_src/tutorials/recurrent.md#stacking-multiple-lstms) [`tf.contrib.rnn.LSTMCell`](https://www.tensorflow.org/api_docs/python/tf/contrib/rnn/LSTMCell) wrapped in a [`tf.contrib.rnn.DropoutWrapper`](https://www.tensorflow.org/api_docs/python/tf/contrib/rnn/DropoutWrapper)\n",
    " * Pass cell and embedded input to [`tf.nn.dynamic_rnn()`](https://www.tensorflow.org/api_docs/python/tf/nn/dynamic_rnn)"
   ]
  },
  {
   "cell_type": "code",
   "execution_count": 9,
   "metadata": {
    "scrolled": false
   },
   "outputs": [
    {
     "name": "stdout",
     "output_type": "stream",
     "text": [
      "Tests Passed\n"
     ]
    }
   ],
   "source": [
    "from imp import reload\n",
    "reload(tests)\n",
    "\n",
    "\n",
    "def lstm_cell(rnn_size,keep_prob):\n",
    "    cell = tf.contrib.rnn.LSTMCell(rnn_size,reuse=tf.get_variable_scope().reuse)\n",
    "    dropout = tf.contrib.rnn.DropoutWrapper(cell, keep_prob)\n",
    "    return dropout\n",
    "\n",
    "def encoding_layer(rnn_inputs, rnn_size, num_layers, keep_prob, \n",
    "                   source_sequence_length, source_vocab_size, \n",
    "                   encoding_embedding_size):\n",
    "    \"\"\"\n",
    "    Create encoding layer\n",
    "    :param rnn_inputs: Inputs for the RNN\n",
    "    :param rnn_size: RNN Size\n",
    "    :param num_layers: Number of layers\n",
    "    :param keep_prob: Dropout keep probability\n",
    "    :param source_sequence_length: a list of the lengths of each sequence in the batch\n",
    "    :param source_vocab_size: vocabulary size of source data\n",
    "    :param encoding_embedding_size: embedding size of source data\n",
    "    :return: tuple (RNN output, RNN state)\n",
    "    \"\"\"\n",
    "    # TODO: Implement Function\n",
    "    inputs = tf.contrib.layers.embed_sequence(rnn_inputs, vocab_size=source_vocab_size,\n",
    "                                                      embed_dim=encoding_embedding_size)\n",
    "    \n",
    "    stacked = tf.contrib.rnn.MultiRNNCell([lstm_cell(rnn_size,keep_prob) for _ in range(num_layers)])\n",
    "    return tf.nn.dynamic_rnn(stacked,inputs,source_sequence_length,dtype=tf.float32)\n",
    "\n",
    "\"\"\"\n",
    "DON'T MODIFY ANYTHING IN THIS CELL THAT IS BELOW THIS LINE\n",
    "\"\"\"\n",
    "tests.test_encoding_layer(encoding_layer)"
   ]
  },
  {
   "cell_type": "markdown",
   "metadata": {},
   "source": [
    "### Decoding - Training\n",
    "Create a training decoding layer:\n",
    "* Create a [`tf.contrib.seq2seq.TrainingHelper`](https://www.tensorflow.org/api_docs/python/tf/contrib/seq2seq/TrainingHelper) \n",
    "* Create a [`tf.contrib.seq2seq.BasicDecoder`](https://www.tensorflow.org/api_docs/python/tf/contrib/seq2seq/BasicDecoder)\n",
    "* Obtain the decoder outputs from [`tf.contrib.seq2seq.dynamic_decode`](https://www.tensorflow.org/api_docs/python/tf/contrib/seq2seq/dynamic_decode)"
   ]
  },
  {
   "cell_type": "code",
   "execution_count": 10,
   "metadata": {},
   "outputs": [
    {
     "name": "stdout",
     "output_type": "stream",
     "text": [
      "Tests Passed\n"
     ]
    }
   ],
   "source": [
    "\n",
    "def decoding_layer_train(encoder_state, dec_cell, dec_embed_input, \n",
    "                         target_sequence_length, max_summary_length, \n",
    "                         output_layer, keep_prob):\n",
    "    \"\"\"\n",
    "    Create a decoding layer for training\n",
    "    :param encoder_state: Encoder State\n",
    "    :param dec_cell: Decoder RNN Cell\n",
    "    :param dec_embed_input: Decoder embedded input\n",
    "    :param target_sequence_length: The lengths of each sequence in the target batch\n",
    "    :param max_summary_length: The length of the longest sequence in the batch\n",
    "    :param output_layer: Function to apply the output layer\n",
    "    :param keep_prob: Dropout keep probability\n",
    "    :return: BasicDecoderOutput containing training logits and sample_id\n",
    "    \"\"\"\n",
    "    # TODO: Implement Function\n",
    "    training_helper = tf.contrib.seq2seq.TrainingHelper(inputs=dec_embed_input,\n",
    "                                                       sequence_length=target_sequence_length,\n",
    "                                                       time_major=False)\n",
    "    # Basic decoder\n",
    "    training_decoder = tf.contrib.seq2seq.BasicDecoder(dec_cell,\n",
    "                                                       training_helper,\n",
    "                                                       encoder_state,\n",
    "                                                       output_layer) \n",
    "\n",
    "    # Perform dynamic decoding using the decoder\n",
    "    training_decoder_output, _ = tf.contrib.seq2seq.dynamic_decode(training_decoder,\n",
    "                                                                   impute_finished=True,\n",
    "                                                                   maximum_iterations=max_summary_length)\n",
    "\n",
    "    return training_decoder_output\n",
    "\n",
    "\n",
    "\n",
    "\"\"\"\n",
    "DON'T MODIFY ANYTHING IN THIS CELL THAT IS BELOW THIS LINE\n",
    "\"\"\"\n",
    "tests.test_decoding_layer_train(decoding_layer_train)"
   ]
  },
  {
   "cell_type": "markdown",
   "metadata": {},
   "source": [
    "### Decoding - Inference\n",
    "Create inference decoder:\n",
    "* Create a [`tf.contrib.seq2seq.GreedyEmbeddingHelper`](https://www.tensorflow.org/api_docs/python/tf/contrib/seq2seq/GreedyEmbeddingHelper)\n",
    "* Create a [`tf.contrib.seq2seq.BasicDecoder`](https://www.tensorflow.org/api_docs/python/tf/contrib/seq2seq/BasicDecoder)\n",
    "* Obtain the decoder outputs from [`tf.contrib.seq2seq.dynamic_decode`](https://www.tensorflow.org/api_docs/python/tf/contrib/seq2seq/dynamic_decode)"
   ]
  },
  {
   "cell_type": "code",
   "execution_count": 11,
   "metadata": {
    "scrolled": true
   },
   "outputs": [
    {
     "name": "stdout",
     "output_type": "stream",
     "text": [
      "Tests Passed\n"
     ]
    }
   ],
   "source": [
    "def decoding_layer_infer(encoder_state, dec_cell, dec_embeddings, start_of_sequence_id,\n",
    "                         end_of_sequence_id, max_target_sequence_length,\n",
    "                         vocab_size, output_layer, batch_size, keep_prob):\n",
    "    \"\"\"\n",
    "    Create a decoding layer for inference\n",
    "    :param encoder_state: Encoder state\n",
    "    :param dec_cell: Decoder RNN Cell\n",
    "    :param dec_embeddings: Decoder embeddings\n",
    "    :param start_of_sequence_id: GO ID\n",
    "    :param end_of_sequence_id: EOS Id\n",
    "    :param max_target_sequence_length: Maximum length of target sequences\n",
    "    :param vocab_size: Size of decoder/target vocabulary\n",
    "    :param decoding_scope: TenorFlow Variable Scope for decoding\n",
    "    :param output_layer: Function to apply the output layer\n",
    "    :param batch_size: Batch size\n",
    "    :param keep_prob: Dropout keep probability\n",
    "    :return: BasicDecoderOutput containing inference logits and sample_id\n",
    "    \"\"\"\n",
    "    start_tokens = tf.tile(tf.constant([start_of_sequence_id], dtype=tf.int32), [batch_size], name='start_tokens')\n",
    "    # Helper for the inference process.\n",
    "    inference_helper = tf.contrib.seq2seq.GreedyEmbeddingHelper(dec_embeddings,\n",
    "                                                            start_tokens,\n",
    "                                                            end_of_sequence_id)\n",
    "\n",
    "    # Basic decoder\n",
    "    inference_decoder = tf.contrib.seq2seq.BasicDecoder(dec_cell,\n",
    "                                                    inference_helper,\n",
    "                                                    encoder_state,\n",
    "                                                    output_layer)\n",
    "\n",
    "    # Perform dynamic decoding using the decoder\n",
    "    inference_decoder_output, _ = tf.contrib.seq2seq.dynamic_decode(inference_decoder,\n",
    "                                                        impute_finished=True,\n",
    "                                                        maximum_iterations=max_target_sequence_length)\n",
    "    return inference_decoder_output\n",
    "\n",
    "\n",
    "\n",
    "\"\"\"\n",
    "DON'T MODIFY ANYTHING IN THIS CELL THAT IS BELOW THIS LINE\n",
    "\"\"\"\n",
    "tests.test_decoding_layer_infer(decoding_layer_infer)"
   ]
  },
  {
   "cell_type": "markdown",
   "metadata": {},
   "source": [
    "### Build the Decoding Layer\n",
    "Implement `decoding_layer()` to create a Decoder RNN layer.\n",
    "\n",
    "* Embed the target sequences\n",
    "* Construct the decoder LSTM cell (just like you constructed the encoder cell above)\n",
    "* Create an output layer to map the outputs of the decoder to the elements of our vocabulary\n",
    "* Use the your `decoding_layer_train(encoder_state, dec_cell, dec_embed_input, target_sequence_length, max_target_sequence_length, output_layer, keep_prob)` function to get the training logits.\n",
    "* Use your `decoding_layer_infer(encoder_state, dec_cell, dec_embeddings, start_of_sequence_id, end_of_sequence_id, max_target_sequence_length, vocab_size, output_layer, batch_size, keep_prob)` function to get the inference logits.\n",
    "\n",
    "Note: You'll need to use [tf.variable_scope](https://www.tensorflow.org/api_docs/python/tf/variable_scope) to share variables between training and inference."
   ]
  },
  {
   "cell_type": "code",
   "execution_count": 12,
   "metadata": {},
   "outputs": [
    {
     "name": "stdout",
     "output_type": "stream",
     "text": [
      "Tests Passed\n"
     ]
    }
   ],
   "source": [
    "def decoding_layer(dec_input, encoder_state,\n",
    "                   target_sequence_length, max_target_sequence_length,\n",
    "                   rnn_size,\n",
    "                   num_layers, target_vocab_to_int, target_vocab_size,\n",
    "                   batch_size, keep_prob, decoding_embedding_size):\n",
    "    \"\"\"\n",
    "    Create decoding layer\n",
    "    :param dec_input: Decoder input\n",
    "    :param encoder_state: Encoder state\n",
    "    :param target_sequence_length: The lengths of each sequence in the target batch\n",
    "    :param max_target_sequence_length: Maximum length of target sequences\n",
    "    :param rnn_size: RNN Size\n",
    "    :param num_layers: Number of layers\n",
    "    :param target_vocab_to_int: Dictionary to go from the target words to an id\n",
    "    :param target_vocab_size: Size of target vocabulary\n",
    "    :param batch_size: The size of the batch\n",
    "    :param keep_prob: Dropout keep probability\n",
    "    :param decoding_embedding_size: Decoding embedding size\n",
    "    :return: Tuple of (Training BasicDecoderOutput, Inference BasicDecoderOutput)\n",
    "    \"\"\"\n",
    "    # TODO: Implement Function\n",
    "    # 1. Decoder Embedding\n",
    "    dec_embeddings = tf.Variable(tf.random_uniform([target_vocab_size, decoding_embedding_size]))\n",
    "    dec_embed_input = tf.nn.embedding_lookup(dec_embeddings, dec_input)\n",
    "    \n",
    "    # 2. Construct the decoder cell\n",
    "    def make_cell(rnn_size):\n",
    "        dec_cell = tf.contrib.rnn.LSTMCell(rnn_size,\n",
    "                                           initializer=tf.random_uniform_initializer(-0.1, 0.1))\n",
    "        return dec_cell\n",
    "\n",
    "    dec_cell = tf.contrib.rnn.MultiRNNCell([make_cell(rnn_size) for _ in range(num_layers)])\n",
    "    \n",
    "    # 3. Dense layer to translate the decoder's output at each time \n",
    "    # step into a choice from the target vocabulary\n",
    "    output_layer = Dense(target_vocab_size,\n",
    "                         kernel_initializer = tf.truncated_normal_initializer(mean = 0.0, stddev=0.1))\n",
    "\n",
    "    with tf.variable_scope(\"decode\"):\n",
    "\n",
    "        x = decoding_layer_train(encoder_state, dec_cell, dec_embed_input, \n",
    "                             target_sequence_length, max_target_sequence_length, \n",
    "                             output_layer, keep_prob)\n",
    "    with tf.variable_scope(\"decode\",reuse=True):\n",
    "        y = decoding_layer_infer(encoder_state, dec_cell, dec_embeddings, \n",
    "                                 target_vocab_to_int['<GO>'],target_vocab_to_int['<EOS>'], \n",
    "                                 max_target_sequence_length,target_vocab_size,\n",
    "                                 output_layer, batch_size, keep_prob)\n",
    "    return x,y\n",
    "\n",
    "\n",
    "\n",
    "\"\"\"\n",
    "DON'T MODIFY ANYTHING IN THIS CELL THAT IS BELOW THIS LINE\n",
    "\"\"\"\n",
    "tests.test_decoding_layer(decoding_layer)"
   ]
  },
  {
   "cell_type": "markdown",
   "metadata": {},
   "source": [
    "### Build the Neural Network\n",
    "Apply the functions you implemented above to:\n",
    "\n",
    "- Encode the input using your `encoding_layer(rnn_inputs, rnn_size, num_layers, keep_prob,  source_sequence_length, source_vocab_size, encoding_embedding_size)`.\n",
    "- Process target data using your `process_decoder_input(target_data, target_vocab_to_int, batch_size)` function.\n",
    "- Decode the encoded input using your `decoding_layer(dec_input, enc_state, target_sequence_length, max_target_sentence_length, rnn_size, num_layers, target_vocab_to_int, target_vocab_size, batch_size, keep_prob, dec_embedding_size)` function."
   ]
  },
  {
   "cell_type": "code",
   "execution_count": 13,
   "metadata": {},
   "outputs": [
    {
     "name": "stdout",
     "output_type": "stream",
     "text": [
      "Tests Passed\n"
     ]
    }
   ],
   "source": [
    "def seq2seq_model(input_data, target_data, keep_prob, batch_size,\n",
    "                  source_sequence_length, target_sequence_length,\n",
    "                  max_target_sentence_length,\n",
    "                  source_vocab_size, target_vocab_size,\n",
    "                  enc_embedding_size, dec_embedding_size,\n",
    "                  rnn_size, num_layers, target_vocab_to_int):\n",
    "    \"\"\"\n",
    "    Build the Sequence-to-Sequence part of the neural network\n",
    "    :param input_data: Input placeholder\n",
    "    :param target_data: Target placeholder\n",
    "    :param keep_prob: Dropout keep probability placeholder\n",
    "    :param batch_size: Batch Size\n",
    "    :param source_sequence_length: Sequence Lengths of source sequences in the batch\n",
    "    :param target_sequence_length: Sequence Lengths of target sequences in the batch\n",
    "    :param source_vocab_size: Source vocabulary size\n",
    "    :param target_vocab_size: Target vocabulary size\n",
    "    :param enc_embedding_size: Decoder embedding size\n",
    "    :param dec_embedding_size: Encoder embedding size\n",
    "    :param rnn_size: RNN Size\n",
    "    :param num_layers: Number of layers\n",
    "    :param target_vocab_to_int: Dictionary to go from the target words to an id\n",
    "    :return: Tuple of (Training BasicDecoderOutput, Inference BasicDecoderOutput)\n",
    "    \"\"\"\n",
    "    # TODO: Implement Function\n",
    "    # Pass the input data through the encoder. We'll ignore the encoder output, but use the state\n",
    "    _, enc_state = encoding_layer(input_data, \n",
    "                                  rnn_size, \n",
    "                                  num_layers,keep_prob, \n",
    "                                  source_sequence_length,\n",
    "                                  source_vocab_size, \n",
    "                                  enc_embedding_size)\n",
    "\n",
    "    \n",
    "    \n",
    "    # Prepare the target sequences we'll feed to the decoder in training mode\n",
    "    dec_input = process_decoder_input(target_data, target_vocab_to_int, batch_size)\n",
    "    \n",
    "    # Pass encoder state and decoder inputs to the decoders\n",
    "    training_decoder_output, inference_decoder_output = decoding_layer(dec_input, enc_state,\n",
    "                   target_sequence_length, max_target_sentence_length,\n",
    "                   rnn_size,\n",
    "                   num_layers, target_vocab_to_int, target_vocab_size,\n",
    "                   batch_size, keep_prob, dec_embedding_size)\n",
    "\n",
    "    return training_decoder_output, inference_decoder_output\n",
    "\n",
    "\n",
    "\"\"\"\n",
    "DON'T MODIFY ANYTHING IN THIS CELL THAT IS BELOW THIS LINE\n",
    "\"\"\"\n",
    "tests.test_seq2seq_model(seq2seq_model)"
   ]
  },
  {
   "cell_type": "markdown",
   "metadata": {},
   "source": [
    "## Neural Network Training\n",
    "### Hyperparameters\n",
    "Tune the following parameters:\n",
    "\n",
    "- Set `epochs` to the number of epochs.\n",
    "- Set `batch_size` to the batch size.\n",
    "- Set `rnn_size` to the size of the RNNs.\n",
    "- Set `num_layers` to the number of layers.\n",
    "- Set `encoding_embedding_size` to the size of the embedding for the encoder.\n",
    "- Set `decoding_embedding_size` to the size of the embedding for the decoder.\n",
    "- Set `learning_rate` to the learning rate.\n",
    "- Set `keep_probability` to the Dropout keep probability\n",
    "- Set `display_step` to state how many steps between each debug output statement"
   ]
  },
  {
   "cell_type": "code",
   "execution_count": 18,
   "metadata": {
    "collapsed": true
   },
   "outputs": [],
   "source": [
    "# Number of Epochs\n",
    "epochs = 17\n",
    "# Batch Size\n",
    "batch_size = 1024\n",
    "# RNN Size\n",
    "rnn_size = 500\n",
    "# Number of Layers\n",
    "num_layers = 2\n",
    "# Embedding Size\n",
    "encoding_embedding_size = 10\n",
    "decoding_embedding_size = 10\n",
    "# Learning Rate\n",
    "learning_rate = 0.001\n",
    "# Dropout Keep Probability\n",
    "keep_probability = 0.5\n",
    "display_step = 10"
   ]
  },
  {
   "cell_type": "markdown",
   "metadata": {},
   "source": [
    "### Build the Graph\n",
    "Build the graph using the neural network you implemented."
   ]
  },
  {
   "cell_type": "code",
   "execution_count": 19,
   "metadata": {
    "collapsed": true
   },
   "outputs": [],
   "source": [
    "\"\"\"\n",
    "DON'T MODIFY ANYTHING IN THIS CELL\n",
    "\"\"\"\n",
    "save_path = 'checkpoints/dev'\n",
    "(source_int_text, target_int_text), (source_vocab_to_int, target_vocab_to_int), _ = helper.load_preprocess()\n",
    "max_target_sentence_length = max([len(sentence) for sentence in source_int_text])\n",
    "\n",
    "train_graph = tf.Graph()\n",
    "with train_graph.as_default():\n",
    "    input_data, targets, lr, keep_prob, target_sequence_length, max_target_sequence_length, source_sequence_length = model_inputs()\n",
    "\n",
    "    #sequence_length = tf.placeholder_with_default(max_target_sentence_length, None, name='sequence_length')\n",
    "    input_shape = tf.shape(input_data)\n",
    "\n",
    "    train_logits, inference_logits = seq2seq_model(tf.reverse(input_data, [-1]),\n",
    "                                                   targets,\n",
    "                                                   keep_prob,\n",
    "                                                   batch_size,\n",
    "                                                   source_sequence_length,\n",
    "                                                   target_sequence_length,\n",
    "                                                   max_target_sequence_length,\n",
    "                                                   len(source_vocab_to_int),\n",
    "                                                   len(target_vocab_to_int),\n",
    "                                                   encoding_embedding_size,\n",
    "                                                   decoding_embedding_size,\n",
    "                                                   rnn_size,\n",
    "                                                   num_layers,\n",
    "                                                   target_vocab_to_int)\n",
    "\n",
    "\n",
    "    training_logits = tf.identity(train_logits.rnn_output, name='logits')\n",
    "    inference_logits = tf.identity(inference_logits.sample_id, name='predictions')\n",
    "\n",
    "    masks = tf.sequence_mask(target_sequence_length, max_target_sequence_length, dtype=tf.float32, name='masks')\n",
    "\n",
    "    with tf.name_scope(\"optimization\"):\n",
    "        # Loss function\n",
    "        cost = tf.contrib.seq2seq.sequence_loss(\n",
    "            training_logits,\n",
    "            targets,\n",
    "            masks)\n",
    "\n",
    "        # Optimizer\n",
    "        optimizer = tf.train.AdamOptimizer(lr)\n",
    "\n",
    "        # Gradient Clipping\n",
    "        gradients = optimizer.compute_gradients(cost)\n",
    "        capped_gradients = [(tf.clip_by_value(grad, -1., 1.), var) for grad, var in gradients if grad is not None]\n",
    "        train_op = optimizer.apply_gradients(capped_gradients)\n"
   ]
  },
  {
   "cell_type": "markdown",
   "metadata": {},
   "source": [
    "Batch and pad the source and target sequences"
   ]
  },
  {
   "cell_type": "code",
   "execution_count": 20,
   "metadata": {
    "collapsed": true
   },
   "outputs": [],
   "source": [
    "\"\"\"\n",
    "DON'T MODIFY ANYTHING IN THIS CELL\n",
    "\"\"\"\n",
    "def pad_sentence_batch(sentence_batch, pad_int):\n",
    "    \"\"\"Pad sentences with <PAD> so that each sentence of a batch has the same length\"\"\"\n",
    "    max_sentence = max([len(sentence) for sentence in sentence_batch])\n",
    "    return [sentence + [pad_int] * (max_sentence - len(sentence)) for sentence in sentence_batch]\n",
    "\n",
    "\n",
    "def get_batches(sources, targets, batch_size, source_pad_int, target_pad_int):\n",
    "    \"\"\"Batch targets, sources, and the lengths of their sentences together\"\"\"\n",
    "    for batch_i in range(0, len(sources)//batch_size):\n",
    "        start_i = batch_i * batch_size\n",
    "\n",
    "        # Slice the right amount for the batch\n",
    "        sources_batch = sources[start_i:start_i + batch_size]\n",
    "        targets_batch = targets[start_i:start_i + batch_size]\n",
    "\n",
    "        # Pad\n",
    "        pad_sources_batch = np.array(pad_sentence_batch(sources_batch, source_pad_int))\n",
    "        pad_targets_batch = np.array(pad_sentence_batch(targets_batch, target_pad_int))\n",
    "\n",
    "        # Need the lengths for the _lengths parameters\n",
    "        pad_targets_lengths = []\n",
    "        for target in pad_targets_batch:\n",
    "            pad_targets_lengths.append(len(target))\n",
    "\n",
    "        pad_source_lengths = []\n",
    "        for source in pad_sources_batch:\n",
    "            pad_source_lengths.append(len(source))\n",
    "\n",
    "        yield pad_sources_batch, pad_targets_batch, pad_source_lengths, pad_targets_lengths\n"
   ]
  },
  {
   "cell_type": "markdown",
   "metadata": {},
   "source": [
    "### Train\n",
    "Train the neural network on the preprocessed data. If you have a hard time getting a good loss, check the forms to see if anyone is having the same problem."
   ]
  },
  {
   "cell_type": "code",
   "execution_count": 21,
   "metadata": {
    "scrolled": true
   },
   "outputs": [
    {
     "name": "stdout",
     "output_type": "stream",
     "text": [
      "Epoch   0 Batch   10/134 - Train Accuracy: 0.2915, Validation Accuracy: 0.3250, Loss: 3.0387\n",
      "Epoch   0 Batch   20/134 - Train Accuracy: 0.4165, Validation Accuracy: 0.4217, Loss: 2.7654\n",
      "Epoch   0 Batch   30/134 - Train Accuracy: 0.4586, Validation Accuracy: 0.4558, Loss: 2.4125\n",
      "Epoch   0 Batch   40/134 - Train Accuracy: 0.4467, Validation Accuracy: 0.4707, Loss: 2.3339\n",
      "Epoch   0 Batch   50/134 - Train Accuracy: 0.4544, Validation Accuracy: 0.4862, Loss: 2.2421\n",
      "Epoch   0 Batch   60/134 - Train Accuracy: 0.4696, Validation Accuracy: 0.4960, Loss: 2.1347\n",
      "Epoch   0 Batch   70/134 - Train Accuracy: 0.4835, Validation Accuracy: 0.4988, Loss: 2.0363\n",
      "Epoch   0 Batch   80/134 - Train Accuracy: 0.4424, Validation Accuracy: 0.4738, Loss: 2.2525\n",
      "Epoch   0 Batch   90/134 - Train Accuracy: 0.4630, Validation Accuracy: 0.4916, Loss: 2.0758\n",
      "Epoch   0 Batch  100/134 - Train Accuracy: 0.4799, Validation Accuracy: 0.5083, Loss: 1.9889\n",
      "Epoch   0 Batch  110/134 - Train Accuracy: 0.4885, Validation Accuracy: 0.5039, Loss: 1.8642\n",
      "Epoch   0 Batch  120/134 - Train Accuracy: 0.4851, Validation Accuracy: 0.5063, Loss: 1.7592\n",
      "Epoch   0 Batch  130/134 - Train Accuracy: 0.4421, Validation Accuracy: 0.4691, Loss: 1.9266\n",
      "Epoch   1 Batch   10/134 - Train Accuracy: 0.4850, Validation Accuracy: 0.5042, Loss: 1.6708\n",
      "Epoch   1 Batch   20/134 - Train Accuracy: 0.5041, Validation Accuracy: 0.5093, Loss: 1.5143\n",
      "Epoch   1 Batch   30/134 - Train Accuracy: 0.5202, Validation Accuracy: 0.5180, Loss: 1.4304\n",
      "Epoch   1 Batch   40/134 - Train Accuracy: 0.4960, Validation Accuracy: 0.5142, Loss: 1.4186\n",
      "Epoch   1 Batch   50/134 - Train Accuracy: 0.5080, Validation Accuracy: 0.5233, Loss: 1.3712\n",
      "Epoch   1 Batch   60/134 - Train Accuracy: 0.4977, Validation Accuracy: 0.5186, Loss: 1.2959\n",
      "Epoch   1 Batch   70/134 - Train Accuracy: 0.5215, Validation Accuracy: 0.5273, Loss: 1.2218\n",
      "Epoch   1 Batch   80/134 - Train Accuracy: 0.5041, Validation Accuracy: 0.5205, Loss: 1.2067\n",
      "Epoch   1 Batch   90/134 - Train Accuracy: 0.4838, Validation Accuracy: 0.5036, Loss: 1.1907\n",
      "Epoch   1 Batch  100/134 - Train Accuracy: 0.4883, Validation Accuracy: 0.5089, Loss: 1.1204\n",
      "Epoch   1 Batch  110/134 - Train Accuracy: 0.5123, Validation Accuracy: 0.5180, Loss: 1.0634\n",
      "Epoch   1 Batch  120/134 - Train Accuracy: 0.5073, Validation Accuracy: 0.5204, Loss: 1.0395\n",
      "Epoch   1 Batch  130/134 - Train Accuracy: 0.4868, Validation Accuracy: 0.5053, Loss: 1.0137\n",
      "Epoch   2 Batch   10/134 - Train Accuracy: 0.5212, Validation Accuracy: 0.5406, Loss: 0.9712\n",
      "Epoch   2 Batch   20/134 - Train Accuracy: 0.5610, Validation Accuracy: 0.5601, Loss: 0.9121\n",
      "Epoch   2 Batch   30/134 - Train Accuracy: 0.5556, Validation Accuracy: 0.5491, Loss: 0.8796\n",
      "Epoch   2 Batch   40/134 - Train Accuracy: 0.5202, Validation Accuracy: 0.5289, Loss: 0.8827\n",
      "Epoch   2 Batch   50/134 - Train Accuracy: 0.5043, Validation Accuracy: 0.5194, Loss: 0.8852\n",
      "Epoch   2 Batch   60/134 - Train Accuracy: 0.5562, Validation Accuracy: 0.5699, Loss: 0.8607\n",
      "Epoch   2 Batch   70/134 - Train Accuracy: 0.5527, Validation Accuracy: 0.5617, Loss: 0.8175\n",
      "Epoch   2 Batch   80/134 - Train Accuracy: 0.5392, Validation Accuracy: 0.5459, Loss: 0.8178\n",
      "Epoch   2 Batch   90/134 - Train Accuracy: 0.5580, Validation Accuracy: 0.5682, Loss: 0.8023\n",
      "Epoch   2 Batch  100/134 - Train Accuracy: 0.5610, Validation Accuracy: 0.5740, Loss: 0.7750\n",
      "Epoch   2 Batch  110/134 - Train Accuracy: 0.5694, Validation Accuracy: 0.5652, Loss: 0.7556\n",
      "Epoch   2 Batch  120/134 - Train Accuracy: 0.5507, Validation Accuracy: 0.5704, Loss: 0.7533\n",
      "Epoch   2 Batch  130/134 - Train Accuracy: 0.5737, Validation Accuracy: 0.5844, Loss: 0.7411\n",
      "Epoch   3 Batch   10/134 - Train Accuracy: 0.5786, Validation Accuracy: 0.5863, Loss: 0.7218\n",
      "Epoch   3 Batch   20/134 - Train Accuracy: 0.6043, Validation Accuracy: 0.6020, Loss: 0.6822\n",
      "Epoch   3 Batch   30/134 - Train Accuracy: 0.5957, Validation Accuracy: 0.5936, Loss: 0.6627\n",
      "Epoch   3 Batch   40/134 - Train Accuracy: 0.5737, Validation Accuracy: 0.5816, Loss: 0.6818\n",
      "Epoch   3 Batch   50/134 - Train Accuracy: 0.5770, Validation Accuracy: 0.5912, Loss: 0.6847\n",
      "Epoch   3 Batch   60/134 - Train Accuracy: 0.5959, Validation Accuracy: 0.6121, Loss: 0.6641\n",
      "Epoch   3 Batch   70/134 - Train Accuracy: 0.5958, Validation Accuracy: 0.6055, Loss: 0.6414\n",
      "Epoch   3 Batch   80/134 - Train Accuracy: 0.5887, Validation Accuracy: 0.6012, Loss: 0.6501\n",
      "Epoch   3 Batch   90/134 - Train Accuracy: 0.5879, Validation Accuracy: 0.6067, Loss: 0.6361\n",
      "Epoch   3 Batch  100/134 - Train Accuracy: 0.6057, Validation Accuracy: 0.6136, Loss: 0.6232\n",
      "Epoch   3 Batch  110/134 - Train Accuracy: 0.6180, Validation Accuracy: 0.6150, Loss: 0.6187\n",
      "Epoch   3 Batch  120/134 - Train Accuracy: 0.6128, Validation Accuracy: 0.6250, Loss: 0.6206\n",
      "Epoch   3 Batch  130/134 - Train Accuracy: 0.5885, Validation Accuracy: 0.5977, Loss: 0.6082\n",
      "Epoch   4 Batch   10/134 - Train Accuracy: 0.6320, Validation Accuracy: 0.6384, Loss: 0.5962\n",
      "Epoch   4 Batch   20/134 - Train Accuracy: 0.6373, Validation Accuracy: 0.6332, Loss: 0.5716\n",
      "Epoch   4 Batch   30/134 - Train Accuracy: 0.6226, Validation Accuracy: 0.6176, Loss: 0.5525\n",
      "Epoch   4 Batch   40/134 - Train Accuracy: 0.6370, Validation Accuracy: 0.6414, Loss: 0.5728\n",
      "Epoch   4 Batch   50/134 - Train Accuracy: 0.6228, Validation Accuracy: 0.6404, Loss: 0.5773\n",
      "Epoch   4 Batch   60/134 - Train Accuracy: 0.6347, Validation Accuracy: 0.6498, Loss: 0.5641\n",
      "Epoch   4 Batch   70/134 - Train Accuracy: 0.6412, Validation Accuracy: 0.6419, Loss: 0.5533\n",
      "Epoch   4 Batch   80/134 - Train Accuracy: 0.6303, Validation Accuracy: 0.6462, Loss: 0.5531\n",
      "Epoch   4 Batch   90/134 - Train Accuracy: 0.6330, Validation Accuracy: 0.6481, Loss: 0.5464\n",
      "Epoch   4 Batch  100/134 - Train Accuracy: 0.6327, Validation Accuracy: 0.6475, Loss: 0.5369\n",
      "Epoch   4 Batch  110/134 - Train Accuracy: 0.6483, Validation Accuracy: 0.6520, Loss: 0.5314\n",
      "Epoch   4 Batch  120/134 - Train Accuracy: 0.6327, Validation Accuracy: 0.6458, Loss: 0.5316\n",
      "Epoch   4 Batch  130/134 - Train Accuracy: 0.6327, Validation Accuracy: 0.6364, Loss: 0.5289\n",
      "Epoch   5 Batch   10/134 - Train Accuracy: 0.6589, Validation Accuracy: 0.6655, Loss: 0.5178\n",
      "Epoch   5 Batch   20/134 - Train Accuracy: 0.6562, Validation Accuracy: 0.6632, Loss: 0.4947\n",
      "Epoch   5 Batch   30/134 - Train Accuracy: 0.6692, Validation Accuracy: 0.6669, Loss: 0.4753\n",
      "Epoch   5 Batch   40/134 - Train Accuracy: 0.6683, Validation Accuracy: 0.6745, Loss: 0.4963\n",
      "Epoch   5 Batch   50/134 - Train Accuracy: 0.6551, Validation Accuracy: 0.6756, Loss: 0.5002\n",
      "Epoch   5 Batch   60/134 - Train Accuracy: 0.6678, Validation Accuracy: 0.6795, Loss: 0.4862\n",
      "Epoch   5 Batch   70/134 - Train Accuracy: 0.6682, Validation Accuracy: 0.6798, Loss: 0.4757\n",
      "Epoch   5 Batch   80/134 - Train Accuracy: 0.6516, Validation Accuracy: 0.6737, Loss: 0.4867\n",
      "Epoch   5 Batch   90/134 - Train Accuracy: 0.6649, Validation Accuracy: 0.6794, Loss: 0.4721\n",
      "Epoch   5 Batch  100/134 - Train Accuracy: 0.6726, Validation Accuracy: 0.6825, Loss: 0.4635\n",
      "Epoch   5 Batch  110/134 - Train Accuracy: 0.6881, Validation Accuracy: 0.6851, Loss: 0.4558\n",
      "Epoch   5 Batch  120/134 - Train Accuracy: 0.6561, Validation Accuracy: 0.6653, Loss: 0.4603\n",
      "Epoch   5 Batch  130/134 - Train Accuracy: 0.6778, Validation Accuracy: 0.6872, Loss: 0.4513\n",
      "Epoch   6 Batch   10/134 - Train Accuracy: 0.6877, Validation Accuracy: 0.6840, Loss: 0.4485\n",
      "Epoch   6 Batch   20/134 - Train Accuracy: 0.6998, Validation Accuracy: 0.6944, Loss: 0.4275\n",
      "Epoch   6 Batch   30/134 - Train Accuracy: 0.7114, Validation Accuracy: 0.6967, Loss: 0.4163\n",
      "Epoch   6 Batch   40/134 - Train Accuracy: 0.7068, Validation Accuracy: 0.7063, Loss: 0.4259\n",
      "Epoch   6 Batch   50/134 - Train Accuracy: 0.6904, Validation Accuracy: 0.7101, Loss: 0.4376\n",
      "Epoch   6 Batch   60/134 - Train Accuracy: 0.7125, Validation Accuracy: 0.7177, Loss: 0.4252\n",
      "Epoch   6 Batch   70/134 - Train Accuracy: 0.7114, Validation Accuracy: 0.7156, Loss: 0.4149\n",
      "Epoch   6 Batch   80/134 - Train Accuracy: 0.7027, Validation Accuracy: 0.7115, Loss: 0.4180\n",
      "Epoch   6 Batch   90/134 - Train Accuracy: 0.6916, Validation Accuracy: 0.7093, Loss: 0.4104\n",
      "Epoch   6 Batch  100/134 - Train Accuracy: 0.7142, Validation Accuracy: 0.7172, Loss: 0.3996\n",
      "Epoch   6 Batch  110/134 - Train Accuracy: 0.7339, Validation Accuracy: 0.7264, Loss: 0.3895\n"
     ]
    },
    {
     "name": "stdout",
     "output_type": "stream",
     "text": [
      "Epoch   6 Batch  120/134 - Train Accuracy: 0.7259, Validation Accuracy: 0.7274, Loss: 0.4008\n",
      "Epoch   6 Batch  130/134 - Train Accuracy: 0.7237, Validation Accuracy: 0.7249, Loss: 0.3835\n",
      "Epoch   7 Batch   10/134 - Train Accuracy: 0.7394, Validation Accuracy: 0.7354, Loss: 0.3844\n",
      "Epoch   7 Batch   20/134 - Train Accuracy: 0.7402, Validation Accuracy: 0.7423, Loss: 0.3711\n",
      "Epoch   7 Batch   30/134 - Train Accuracy: 0.7522, Validation Accuracy: 0.7421, Loss: 0.3532\n",
      "Epoch   7 Batch   40/134 - Train Accuracy: 0.7467, Validation Accuracy: 0.7415, Loss: 0.3645\n",
      "Epoch   7 Batch   50/134 - Train Accuracy: 0.7454, Validation Accuracy: 0.7600, Loss: 0.3616\n",
      "Epoch   7 Batch   60/134 - Train Accuracy: 0.7450, Validation Accuracy: 0.7499, Loss: 0.3584\n",
      "Epoch   7 Batch   70/134 - Train Accuracy: 0.7523, Validation Accuracy: 0.7560, Loss: 0.3495\n",
      "Epoch   7 Batch   80/134 - Train Accuracy: 0.7456, Validation Accuracy: 0.7565, Loss: 0.3474\n",
      "Epoch   7 Batch   90/134 - Train Accuracy: 0.7538, Validation Accuracy: 0.7682, Loss: 0.3427\n",
      "Epoch   7 Batch  100/134 - Train Accuracy: 0.7591, Validation Accuracy: 0.7662, Loss: 0.3380\n",
      "Epoch   7 Batch  110/134 - Train Accuracy: 0.7777, Validation Accuracy: 0.7725, Loss: 0.3270\n",
      "Epoch   7 Batch  120/134 - Train Accuracy: 0.7577, Validation Accuracy: 0.7796, Loss: 0.3385\n",
      "Epoch   7 Batch  130/134 - Train Accuracy: 0.7849, Validation Accuracy: 0.7923, Loss: 0.3292\n",
      "Epoch   8 Batch   10/134 - Train Accuracy: 0.7843, Validation Accuracy: 0.7838, Loss: 0.3254\n",
      "Epoch   8 Batch   20/134 - Train Accuracy: 0.7902, Validation Accuracy: 0.7889, Loss: 0.3096\n",
      "Epoch   8 Batch   30/134 - Train Accuracy: 0.7935, Validation Accuracy: 0.7848, Loss: 0.3004\n",
      "Epoch   8 Batch   40/134 - Train Accuracy: 0.7959, Validation Accuracy: 0.7877, Loss: 0.3046\n",
      "Epoch   8 Batch   50/134 - Train Accuracy: 0.7809, Validation Accuracy: 0.7984, Loss: 0.3061\n",
      "Epoch   8 Batch   60/134 - Train Accuracy: 0.7852, Validation Accuracy: 0.8046, Loss: 0.2979\n",
      "Epoch   8 Batch   70/134 - Train Accuracy: 0.7924, Validation Accuracy: 0.8053, Loss: 0.2925\n",
      "Epoch   8 Batch   80/134 - Train Accuracy: 0.7880, Validation Accuracy: 0.7993, Loss: 0.2928\n",
      "Epoch   8 Batch   90/134 - Train Accuracy: 0.8044, Validation Accuracy: 0.8097, Loss: 0.2903\n",
      "Epoch   8 Batch  100/134 - Train Accuracy: 0.7946, Validation Accuracy: 0.8202, Loss: 0.2907\n",
      "Epoch   8 Batch  110/134 - Train Accuracy: 0.8167, Validation Accuracy: 0.8168, Loss: 0.2754\n",
      "Epoch   8 Batch  120/134 - Train Accuracy: 0.8010, Validation Accuracy: 0.8184, Loss: 0.2849\n",
      "Epoch   8 Batch  130/134 - Train Accuracy: 0.8157, Validation Accuracy: 0.8111, Loss: 0.2841\n",
      "Epoch   9 Batch   10/134 - Train Accuracy: 0.8145, Validation Accuracy: 0.8224, Loss: 0.2742\n",
      "Epoch   9 Batch   20/134 - Train Accuracy: 0.8216, Validation Accuracy: 0.8220, Loss: 0.2672\n",
      "Epoch   9 Batch   30/134 - Train Accuracy: 0.8267, Validation Accuracy: 0.8244, Loss: 0.2468\n",
      "Epoch   9 Batch   40/134 - Train Accuracy: 0.8298, Validation Accuracy: 0.8290, Loss: 0.2580\n",
      "Epoch   9 Batch   50/134 - Train Accuracy: 0.8251, Validation Accuracy: 0.8352, Loss: 0.2552\n",
      "Epoch   9 Batch   60/134 - Train Accuracy: 0.8245, Validation Accuracy: 0.8358, Loss: 0.2654\n",
      "Epoch   9 Batch   70/134 - Train Accuracy: 0.8385, Validation Accuracy: 0.8373, Loss: 0.2521\n",
      "Epoch   9 Batch   80/134 - Train Accuracy: 0.8302, Validation Accuracy: 0.8349, Loss: 0.2446\n",
      "Epoch   9 Batch   90/134 - Train Accuracy: 0.8457, Validation Accuracy: 0.8492, Loss: 0.2459\n",
      "Epoch   9 Batch  100/134 - Train Accuracy: 0.8242, Validation Accuracy: 0.8382, Loss: 0.2550\n",
      "Epoch   9 Batch  110/134 - Train Accuracy: 0.8468, Validation Accuracy: 0.8477, Loss: 0.2376\n",
      "Epoch   9 Batch  120/134 - Train Accuracy: 0.8351, Validation Accuracy: 0.8428, Loss: 0.2485\n",
      "Epoch   9 Batch  130/134 - Train Accuracy: 0.8563, Validation Accuracy: 0.8545, Loss: 0.2289\n",
      "Epoch  10 Batch   10/134 - Train Accuracy: 0.8443, Validation Accuracy: 0.8443, Loss: 0.2285\n",
      "Epoch  10 Batch   20/134 - Train Accuracy: 0.8464, Validation Accuracy: 0.8477, Loss: 0.2221\n",
      "Epoch  10 Batch   30/134 - Train Accuracy: 0.8732, Validation Accuracy: 0.8606, Loss: 0.2098\n",
      "Epoch  10 Batch   40/134 - Train Accuracy: 0.8567, Validation Accuracy: 0.8594, Loss: 0.2137\n",
      "Epoch  10 Batch   50/134 - Train Accuracy: 0.8580, Validation Accuracy: 0.8553, Loss: 0.2171\n",
      "Epoch  10 Batch   60/134 - Train Accuracy: 0.8536, Validation Accuracy: 0.8583, Loss: 0.2062\n",
      "Epoch  10 Batch   70/134 - Train Accuracy: 0.8684, Validation Accuracy: 0.8635, Loss: 0.2035\n",
      "Epoch  10 Batch   80/134 - Train Accuracy: 0.8606, Validation Accuracy: 0.8598, Loss: 0.2114\n",
      "Epoch  10 Batch   90/134 - Train Accuracy: 0.8735, Validation Accuracy: 0.8768, Loss: 0.2080\n",
      "Epoch  10 Batch  100/134 - Train Accuracy: 0.8570, Validation Accuracy: 0.8674, Loss: 0.2044\n",
      "Epoch  10 Batch  110/134 - Train Accuracy: 0.8820, Validation Accuracy: 0.8704, Loss: 0.1956\n",
      "Epoch  10 Batch  120/134 - Train Accuracy: 0.8621, Validation Accuracy: 0.8629, Loss: 0.2050\n",
      "Epoch  10 Batch  130/134 - Train Accuracy: 0.8788, Validation Accuracy: 0.8849, Loss: 0.1900\n",
      "Epoch  11 Batch   10/134 - Train Accuracy: 0.8694, Validation Accuracy: 0.8714, Loss: 0.1905\n",
      "Epoch  11 Batch   20/134 - Train Accuracy: 0.8730, Validation Accuracy: 0.8782, Loss: 0.1797\n",
      "Epoch  11 Batch   30/134 - Train Accuracy: 0.8802, Validation Accuracy: 0.8754, Loss: 0.1797\n",
      "Epoch  11 Batch   40/134 - Train Accuracy: 0.8793, Validation Accuracy: 0.8829, Loss: 0.1792\n",
      "Epoch  11 Batch   50/134 - Train Accuracy: 0.8748, Validation Accuracy: 0.8783, Loss: 0.1748\n",
      "Epoch  11 Batch   60/134 - Train Accuracy: 0.8877, Validation Accuracy: 0.8854, Loss: 0.1818\n",
      "Epoch  11 Batch   70/134 - Train Accuracy: 0.8826, Validation Accuracy: 0.8835, Loss: 0.1789\n",
      "Epoch  11 Batch   80/134 - Train Accuracy: 0.8896, Validation Accuracy: 0.8894, Loss: 0.1742\n",
      "Epoch  11 Batch   90/134 - Train Accuracy: 0.8836, Validation Accuracy: 0.8933, Loss: 0.1791\n",
      "Epoch  11 Batch  100/134 - Train Accuracy: 0.8844, Validation Accuracy: 0.8880, Loss: 0.1763\n",
      "Epoch  11 Batch  110/134 - Train Accuracy: 0.8955, Validation Accuracy: 0.8943, Loss: 0.1639\n",
      "Epoch  11 Batch  120/134 - Train Accuracy: 0.8941, Validation Accuracy: 0.8933, Loss: 0.1654\n",
      "Epoch  11 Batch  130/134 - Train Accuracy: 0.8990, Validation Accuracy: 0.8994, Loss: 0.1626\n",
      "Epoch  12 Batch   10/134 - Train Accuracy: 0.8964, Validation Accuracy: 0.8923, Loss: 0.1583\n",
      "Epoch  12 Batch   20/134 - Train Accuracy: 0.8972, Validation Accuracy: 0.8953, Loss: 0.1551\n",
      "Epoch  12 Batch   30/134 - Train Accuracy: 0.8992, Validation Accuracy: 0.8951, Loss: 0.1450\n",
      "Epoch  12 Batch   40/134 - Train Accuracy: 0.8943, Validation Accuracy: 0.8984, Loss: 0.1543\n",
      "Epoch  12 Batch   50/134 - Train Accuracy: 0.9026, Validation Accuracy: 0.8955, Loss: 0.1578\n",
      "Epoch  12 Batch   60/134 - Train Accuracy: 0.9020, Validation Accuracy: 0.8956, Loss: 0.1518\n",
      "Epoch  12 Batch   70/134 - Train Accuracy: 0.8970, Validation Accuracy: 0.8937, Loss: 0.1541\n",
      "Epoch  12 Batch   80/134 - Train Accuracy: 0.9036, Validation Accuracy: 0.8993, Loss: 0.1399\n",
      "Epoch  12 Batch   90/134 - Train Accuracy: 0.8992, Validation Accuracy: 0.9029, Loss: 0.1484\n",
      "Epoch  12 Batch  100/134 - Train Accuracy: 0.9038, Validation Accuracy: 0.9031, Loss: 0.1495\n",
      "Epoch  12 Batch  110/134 - Train Accuracy: 0.9046, Validation Accuracy: 0.9034, Loss: 0.1423\n",
      "Epoch  12 Batch  120/134 - Train Accuracy: 0.8996, Validation Accuracy: 0.8991, Loss: 0.1440\n",
      "Epoch  12 Batch  130/134 - Train Accuracy: 0.8993, Validation Accuracy: 0.9039, Loss: 0.1346\n",
      "Epoch  13 Batch   10/134 - Train Accuracy: 0.8959, Validation Accuracy: 0.9087, Loss: 0.1380\n",
      "Epoch  13 Batch   20/134 - Train Accuracy: 0.9132, Validation Accuracy: 0.9073, Loss: 0.1334\n",
      "Epoch  13 Batch   30/134 - Train Accuracy: 0.9139, Validation Accuracy: 0.9034, Loss: 0.1257\n",
      "Epoch  13 Batch   40/134 - Train Accuracy: 0.8989, Validation Accuracy: 0.9011, Loss: 0.1312\n",
      "Epoch  13 Batch   50/134 - Train Accuracy: 0.9144, Validation Accuracy: 0.9105, Loss: 0.1355\n",
      "Epoch  13 Batch   60/134 - Train Accuracy: 0.9073, Validation Accuracy: 0.9103, Loss: 0.1287\n",
      "Epoch  13 Batch   70/134 - Train Accuracy: 0.9077, Validation Accuracy: 0.9085, Loss: 0.1282\n",
      "Epoch  13 Batch   80/134 - Train Accuracy: 0.9087, Validation Accuracy: 0.9103, Loss: 0.1272\n",
      "Epoch  13 Batch   90/134 - Train Accuracy: 0.9044, Validation Accuracy: 0.9078, Loss: 0.1359\n"
     ]
    },
    {
     "name": "stdout",
     "output_type": "stream",
     "text": [
      "Epoch  13 Batch  100/134 - Train Accuracy: 0.9003, Validation Accuracy: 0.9030, Loss: 0.1245\n",
      "Epoch  13 Batch  110/134 - Train Accuracy: 0.9200, Validation Accuracy: 0.9105, Loss: 0.1243\n",
      "Epoch  13 Batch  120/134 - Train Accuracy: 0.9097, Validation Accuracy: 0.9125, Loss: 0.1222\n",
      "Epoch  13 Batch  130/134 - Train Accuracy: 0.9118, Validation Accuracy: 0.9101, Loss: 0.1201\n",
      "Epoch  14 Batch   10/134 - Train Accuracy: 0.9119, Validation Accuracy: 0.9181, Loss: 0.1167\n",
      "Epoch  14 Batch   20/134 - Train Accuracy: 0.9197, Validation Accuracy: 0.9086, Loss: 0.1128\n",
      "Epoch  14 Batch   30/134 - Train Accuracy: 0.9090, Validation Accuracy: 0.9049, Loss: 0.1036\n",
      "Epoch  14 Batch   40/134 - Train Accuracy: 0.9090, Validation Accuracy: 0.9123, Loss: 0.1202\n",
      "Epoch  14 Batch   50/134 - Train Accuracy: 0.9134, Validation Accuracy: 0.9157, Loss: 0.1139\n",
      "Epoch  14 Batch   60/134 - Train Accuracy: 0.9187, Validation Accuracy: 0.9175, Loss: 0.1088\n",
      "Epoch  14 Batch   70/134 - Train Accuracy: 0.9185, Validation Accuracy: 0.9124, Loss: 0.1125\n",
      "Epoch  14 Batch   80/134 - Train Accuracy: 0.9231, Validation Accuracy: 0.9154, Loss: 0.1095\n",
      "Epoch  14 Batch   90/134 - Train Accuracy: 0.9044, Validation Accuracy: 0.9065, Loss: 0.1102\n",
      "Epoch  14 Batch  100/134 - Train Accuracy: 0.9215, Validation Accuracy: 0.9150, Loss: 0.1097\n",
      "Epoch  14 Batch  110/134 - Train Accuracy: 0.9229, Validation Accuracy: 0.9165, Loss: 0.1058\n",
      "Epoch  14 Batch  120/134 - Train Accuracy: 0.9167, Validation Accuracy: 0.9138, Loss: 0.1059\n",
      "Epoch  14 Batch  130/134 - Train Accuracy: 0.9180, Validation Accuracy: 0.9165, Loss: 0.1175\n",
      "Epoch  15 Batch   10/134 - Train Accuracy: 0.9205, Validation Accuracy: 0.9141, Loss: 0.1160\n",
      "Epoch  15 Batch   20/134 - Train Accuracy: 0.9239, Validation Accuracy: 0.9206, Loss: 0.1044\n",
      "Epoch  15 Batch   30/134 - Train Accuracy: 0.9240, Validation Accuracy: 0.9208, Loss: 0.1016\n",
      "Epoch  15 Batch   40/134 - Train Accuracy: 0.9266, Validation Accuracy: 0.9257, Loss: 0.1013\n",
      "Epoch  15 Batch   50/134 - Train Accuracy: 0.9196, Validation Accuracy: 0.9257, Loss: 0.1023\n",
      "Epoch  15 Batch   60/134 - Train Accuracy: 0.9230, Validation Accuracy: 0.9241, Loss: 0.1001\n",
      "Epoch  15 Batch   70/134 - Train Accuracy: 0.9318, Validation Accuracy: 0.9292, Loss: 0.0981\n",
      "Epoch  15 Batch   80/134 - Train Accuracy: 0.9297, Validation Accuracy: 0.9311, Loss: 0.1031\n",
      "Epoch  15 Batch   90/134 - Train Accuracy: 0.9263, Validation Accuracy: 0.9250, Loss: 0.1009\n",
      "Epoch  15 Batch  100/134 - Train Accuracy: 0.9302, Validation Accuracy: 0.9235, Loss: 0.1024\n",
      "Epoch  15 Batch  110/134 - Train Accuracy: 0.9308, Validation Accuracy: 0.9292, Loss: 0.0970\n",
      "Epoch  15 Batch  120/134 - Train Accuracy: 0.9217, Validation Accuracy: 0.9211, Loss: 0.1006\n",
      "Epoch  15 Batch  130/134 - Train Accuracy: 0.9300, Validation Accuracy: 0.9244, Loss: 0.0934\n",
      "Epoch  16 Batch   10/134 - Train Accuracy: 0.9237, Validation Accuracy: 0.9278, Loss: 0.0951\n",
      "Epoch  16 Batch   20/134 - Train Accuracy: 0.9338, Validation Accuracy: 0.9304, Loss: 0.0906\n",
      "Epoch  16 Batch   30/134 - Train Accuracy: 0.9303, Validation Accuracy: 0.9344, Loss: 0.0976\n",
      "Epoch  16 Batch   40/134 - Train Accuracy: 0.9357, Validation Accuracy: 0.9324, Loss: 0.0960\n",
      "Epoch  16 Batch   50/134 - Train Accuracy: 0.9285, Validation Accuracy: 0.9336, Loss: 0.1025\n",
      "Epoch  16 Batch   60/134 - Train Accuracy: 0.9284, Validation Accuracy: 0.9312, Loss: 0.0928\n",
      "Epoch  16 Batch   70/134 - Train Accuracy: 0.9368, Validation Accuracy: 0.9341, Loss: 0.0888\n",
      "Epoch  16 Batch   80/134 - Train Accuracy: 0.9384, Validation Accuracy: 0.9357, Loss: 0.0937\n",
      "Epoch  16 Batch   90/134 - Train Accuracy: 0.9305, Validation Accuracy: 0.9349, Loss: 0.0923\n",
      "Epoch  16 Batch  100/134 - Train Accuracy: 0.9399, Validation Accuracy: 0.9334, Loss: 0.0866\n",
      "Epoch  16 Batch  110/134 - Train Accuracy: 0.9382, Validation Accuracy: 0.9352, Loss: 0.0863\n",
      "Epoch  16 Batch  120/134 - Train Accuracy: 0.9439, Validation Accuracy: 0.9354, Loss: 0.0961\n",
      "Epoch  16 Batch  130/134 - Train Accuracy: 0.9364, Validation Accuracy: 0.9327, Loss: 0.0895\n",
      "Model Trained and Saved\n"
     ]
    }
   ],
   "source": [
    "\"\"\"\n",
    "DON'T MODIFY ANYTHING IN THIS CELL\n",
    "\"\"\"\n",
    "def get_accuracy(target, logits):\n",
    "    \"\"\"\n",
    "    Calculate accuracy\n",
    "    \"\"\"\n",
    "    max_seq = max(target.shape[1], logits.shape[1])\n",
    "    if max_seq - target.shape[1]:\n",
    "        target = np.pad(\n",
    "            target,\n",
    "            [(0,0),(0,max_seq - target.shape[1])],\n",
    "            'constant')\n",
    "    if max_seq - logits.shape[1]:\n",
    "        logits = np.pad(\n",
    "            logits,\n",
    "            [(0,0),(0,max_seq - logits.shape[1])],\n",
    "            'constant')\n",
    "\n",
    "    return np.mean(np.equal(target, logits))\n",
    "\n",
    "# Split data to training and validation sets\n",
    "train_source = source_int_text[batch_size:]\n",
    "train_target = target_int_text[batch_size:]\n",
    "valid_source = source_int_text[:batch_size]\n",
    "valid_target = target_int_text[:batch_size]\n",
    "(valid_sources_batch, valid_targets_batch, valid_sources_lengths, valid_targets_lengths ) = next(get_batches(valid_source,\n",
    "                                                                                                             valid_target,\n",
    "                                                                                                             batch_size,\n",
    "                                                                                                             source_vocab_to_int['<PAD>'],\n",
    "                                                                                                             target_vocab_to_int['<PAD>']))                                                                                                  \n",
    "with tf.Session(graph=train_graph) as sess:\n",
    "    sess.run(tf.global_variables_initializer())\n",
    "\n",
    "    for epoch_i in range(epochs):\n",
    "        for batch_i, (source_batch, target_batch, sources_lengths, targets_lengths) in enumerate(\n",
    "                get_batches(train_source, train_target, batch_size,\n",
    "                            source_vocab_to_int['<PAD>'],\n",
    "                            target_vocab_to_int['<PAD>'])):\n",
    "\n",
    "            _, loss = sess.run(\n",
    "                [train_op, cost],\n",
    "                {input_data: source_batch,\n",
    "                 targets: target_batch,\n",
    "                 lr: learning_rate,\n",
    "                 target_sequence_length: targets_lengths,\n",
    "                 source_sequence_length: sources_lengths,\n",
    "                 keep_prob: keep_probability})\n",
    "\n",
    "\n",
    "            if batch_i % display_step == 0 and batch_i > 0:\n",
    "\n",
    "\n",
    "                batch_train_logits = sess.run(\n",
    "                    inference_logits,\n",
    "                    {input_data: source_batch,\n",
    "                     source_sequence_length: sources_lengths,\n",
    "                     target_sequence_length: targets_lengths,\n",
    "                     keep_prob: 1.0})\n",
    "\n",
    "\n",
    "                batch_valid_logits = sess.run(\n",
    "                    inference_logits,\n",
    "                    {input_data: valid_sources_batch,\n",
    "                     source_sequence_length: valid_sources_lengths,\n",
    "                     target_sequence_length: valid_targets_lengths,\n",
    "                     keep_prob: 1.0})\n",
    "\n",
    "                train_acc = get_accuracy(target_batch, batch_train_logits)\n",
    "\n",
    "                valid_acc = get_accuracy(valid_targets_batch, batch_valid_logits)\n",
    "\n",
    "                print('Epoch {:>3} Batch {:>4}/{} - Train Accuracy: {:>6.4f}, Validation Accuracy: {:>6.4f}, Loss: {:>6.4f}'\n",
    "                      .format(epoch_i, batch_i, len(source_int_text) // batch_size, train_acc, valid_acc, loss))\n",
    "\n",
    "    # Save Model\n",
    "    saver = tf.train.Saver()\n",
    "    saver.save(sess, save_path)\n",
    "    print('Model Trained and Saved')"
   ]
  },
  {
   "cell_type": "markdown",
   "metadata": {},
   "source": [
    "### Save Parameters\n",
    "Save the `batch_size` and `save_path` parameters for inference."
   ]
  },
  {
   "cell_type": "code",
   "execution_count": 22,
   "metadata": {
    "collapsed": true
   },
   "outputs": [],
   "source": [
    "\"\"\"\n",
    "DON'T MODIFY ANYTHING IN THIS CELL\n",
    "\"\"\"\n",
    "# Save parameters for checkpoint\n",
    "helper.save_params(save_path)"
   ]
  },
  {
   "cell_type": "markdown",
   "metadata": {},
   "source": [
    "# Checkpoint"
   ]
  },
  {
   "cell_type": "code",
   "execution_count": 23,
   "metadata": {
    "collapsed": true
   },
   "outputs": [],
   "source": [
    "\"\"\"\n",
    "DON'T MODIFY ANYTHING IN THIS CELL\n",
    "\"\"\"\n",
    "import tensorflow as tf\n",
    "import numpy as np\n",
    "import helper\n",
    "import problem_unittests as tests\n",
    "\n",
    "_, (source_vocab_to_int, target_vocab_to_int), (source_int_to_vocab, target_int_to_vocab) = helper.load_preprocess()\n",
    "load_path = helper.load_params()"
   ]
  },
  {
   "cell_type": "markdown",
   "metadata": {},
   "source": [
    "## Sentence to Sequence\n",
    "To feed a sentence into the model for translation, you first need to preprocess it.  Implement the function `sentence_to_seq()` to preprocess new sentences.\n",
    "\n",
    "- Convert the sentence to lowercase\n",
    "- Convert words into ids using `vocab_to_int`\n",
    " - Convert words not in the vocabulary, to the `<UNK>` word id."
   ]
  },
  {
   "cell_type": "code",
   "execution_count": 25,
   "metadata": {},
   "outputs": [
    {
     "name": "stdout",
     "output_type": "stream",
     "text": [
      "Tests Passed\n"
     ]
    }
   ],
   "source": [
    "def sentence_to_seq(sentence, vocab_to_int):\n",
    "    \"\"\"\n",
    "    Convert a sentence to a sequence of ids\n",
    "    :param sentence: String\n",
    "    :param vocab_to_int: Dictionary to go from the words to an id\n",
    "    :return: List of word ids\n",
    "    \"\"\"\n",
    "    # TODO: Implement Function\n",
    "    seq = [vocab_to_int.get(word, vocab_to_int['<UNK>']) for word in sentence.lower().split()]\n",
    "    return seq\n",
    "\n",
    "\n",
    "\"\"\"\n",
    "DON'T MODIFY ANYTHING IN THIS CELL THAT IS BELOW THIS LINE\n",
    "\"\"\"\n",
    "tests.test_sentence_to_seq(sentence_to_seq)"
   ]
  },
  {
   "cell_type": "markdown",
   "metadata": {},
   "source": [
    "## Translate\n",
    "This will translate `translate_sentence` from English to French."
   ]
  },
  {
   "cell_type": "code",
   "execution_count": 26,
   "metadata": {},
   "outputs": [
    {
     "name": "stdout",
     "output_type": "stream",
     "text": [
      "INFO:tensorflow:Restoring parameters from checkpoints/dev\n",
      "Input\n",
      "  Word Ids:      [84, 169, 59, 16, 64, 18, 213]\n",
      "  English Words: ['he', 'saw', 'a', 'old', 'yellow', 'truck', '.']\n",
      "\n",
      "Prediction\n",
      "  Word Ids:      [51, 353, 128, 151, 190, 139, 222, 268, 261, 1]\n",
      "  French Words: il pourrait aller aux états-unis en septembre prochain . <EOS>\n"
     ]
    }
   ],
   "source": [
    "translate_sentence = 'he saw a old yellow truck .'\n",
    "\n",
    "\n",
    "\"\"\"\n",
    "DON'T MODIFY ANYTHING IN THIS CELL\n",
    "\"\"\"\n",
    "translate_sentence = sentence_to_seq(translate_sentence, source_vocab_to_int)\n",
    "\n",
    "loaded_graph = tf.Graph()\n",
    "with tf.Session(graph=loaded_graph) as sess:\n",
    "    # Load saved model\n",
    "    loader = tf.train.import_meta_graph(load_path + '.meta')\n",
    "    loader.restore(sess, load_path)\n",
    "\n",
    "    input_data = loaded_graph.get_tensor_by_name('input:0')\n",
    "    logits = loaded_graph.get_tensor_by_name('predictions:0')\n",
    "    target_sequence_length = loaded_graph.get_tensor_by_name('target_sequence_length:0')\n",
    "    source_sequence_length = loaded_graph.get_tensor_by_name('source_sequence_length:0')\n",
    "    keep_prob = loaded_graph.get_tensor_by_name('keep_prob:0')\n",
    "\n",
    "    translate_logits = sess.run(logits, {input_data: [translate_sentence]*batch_size,\n",
    "                                         target_sequence_length: [len(translate_sentence)*2]*batch_size,\n",
    "                                         source_sequence_length: [len(translate_sentence)]*batch_size,\n",
    "                                         keep_prob: 1.0})[0]\n",
    "\n",
    "print('Input')\n",
    "print('  Word Ids:      {}'.format([i for i in translate_sentence]))\n",
    "print('  English Words: {}'.format([source_int_to_vocab[i] for i in translate_sentence]))\n",
    "\n",
    "print('\\nPrediction')\n",
    "print('  Word Ids:      {}'.format([i for i in translate_logits]))\n",
    "print('  French Words: {}'.format(\" \".join([target_int_to_vocab[i] for i in translate_logits])))\n"
   ]
  },
  {
   "cell_type": "markdown",
   "metadata": {},
   "source": [
    "## Imperfect Translation\n",
    "You might notice that some sentences translate better than others.  Since the dataset you're using only has a vocabulary of 227 English words of the thousands that you use, you're only going to see good results using these words.  For this project, you don't need a perfect translation. However, if you want to create a better translation model, you'll need better data.\n",
    "\n",
    "You can train on the [WMT10 French-English corpus](http://www.statmt.org/wmt10/training-giga-fren.tar).  This dataset has more vocabulary and richer in topics discussed.  However, this will take you days to train, so make sure you've a GPU and the neural network is performing well on dataset we provided.  Just make sure you play with the WMT10 corpus after you've submitted this project.\n",
    "## Submitting This Project\n",
    "When submitting this project, make sure to run all the cells before saving the notebook. Save the notebook file as \"dlnd_language_translation.ipynb\" and save it as a HTML file under \"File\" -> \"Download as\". Include the \"helper.py\" and \"problem_unittests.py\" files in your submission."
   ]
  },
  {
   "cell_type": "code",
   "execution_count": null,
   "metadata": {
    "collapsed": true
   },
   "outputs": [],
   "source": []
  }
 ],
 "metadata": {
  "anaconda-cloud": {},
  "kernelspec": {
   "display_name": "Python 3",
   "language": "python",
   "name": "python3"
  },
  "language_info": {
   "codemirror_mode": {
    "name": "ipython",
    "version": 3
   },
   "file_extension": ".py",
   "mimetype": "text/x-python",
   "name": "python",
   "nbconvert_exporter": "python",
   "pygments_lexer": "ipython3",
   "version": "3.5.3"
  }
 },
 "nbformat": 4,
 "nbformat_minor": 1
}
